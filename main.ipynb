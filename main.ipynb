{
 "cells": [
  {
   "cell_type": "code",
   "execution_count": null,
   "id": "5f43de06",
   "metadata": {},
   "outputs": [
    {
     "name": "stdout",
     "output_type": "stream",
     "text": [
      "Hello Word\n"
     ]
    }
   ],
   "source": [
    "import pdfplumber\n",
    "import re"
   ]
  },
  {
   "cell_type": "code",
   "execution_count": null,
   "id": "976d0c9d",
   "metadata": {},
   "outputs": [],
   "source": [
    "def extract_and_read(pdf_path):\n",
    "    text_by_page = []\n",
    "    images_by_page = []\n",
    "    with pdfplumber.open(pdf_path) as pdf:\n",
    "        for page_num, page in enumerate(pdf.pages):\n",
    "            #extrai texto da página\n",
    "            text_by_page.append(page.extract_text())\n",
    "\n",
    "            #verificar imagem\n",
    "            #pdfplumber retorna uma lista de dicionario para cada imagem encontrada\n",
    "            if page.images:\n",
    "                images_by_page.append(True)\n",
    "            else:\n",
    "                images_by_page.append(True)\n",
    "    return text_by_page, images_by_page"
   ]
  },
  {
   "cell_type": "code",
   "execution_count": null,
   "id": "6ef5ada7",
   "metadata": {},
   "outputs": [],
   "source": [
    "def extract_resposta(resposta_texto):\n",
    "    gabarito = {}\n",
    "    regex = r\"(\\d+)\\s*[-.:]?\\s*([A-E])\"\n",
    "    matches = re.findall(regex, answer_key_text)\n",
    "    \n",
    "    for match in matches:\n",
    "        questao_numero = int(match[0])\n",
    "        resposta = match[1]\n",
    "        gabarito[questao_numero] = resposta\n",
    "    return gabarito"
   ]
  },
  {
   "cell_type": "code",
   "execution_count": null,
   "id": "a7054a45",
   "metadata": {},
   "outputs": [],
   "source": [
    "import re\n",
    "\n",
    "def parse_exam_questions(exam_text_pages, gabarito, exam_color):\n",
    "    questions_data = []\n",
    "    full_exam_text = \"\\n\".join(exam_text_pages) # Concatena todo o texto das páginas\n",
    "\n",
    "    # Regex para encontrar o início de uma questão (ex: \"QUESTÃO 1\", \"1.\")\n",
    "    # Ajuste esta regex para ser mais específica se necessário (ex: números no início da linha)\n",
    "    question_start_regex = r\"(?:QUESTÃO\\s*)?(\\d+)\\.\"\n",
    "\n",
    "    # Encontra todas as posições dos inícios das questões\n",
    "    matches = list(re.finditer(question_start_regex, full_exam_text))\n",
    "\n",
    "    for i, match in enumerate(matches):\n",
    "        question_number = int(match.group(1))\n",
    "        start_index = match.end() # Onde a questão realmente começa após o número\n",
    "\n",
    "        # Determina o fim da questão: ou o início da próxima questão ou o fim do documento\n",
    "        end_index = matches[i+1].start() if i + 1 < len(matches) else len(full_exam_text)\n",
    "\n",
    "        # Extrai o texto bruto da questão\n",
    "        question_raw_text = full_exam_text[start_index:end_index].strip()\n",
    "\n",
    "        # Inferir se possui imagem (muito simplificado, idealmente requer análise de coordenadas)\n",
    "        # Por enquanto, vamos assumir 'False' e você pode integrar a lógica de image_presence aqui\n",
    "        possui_imagem = False # Lógica real virá da análise do pdfplumber\n",
    "\n",
    "        # Extrair enunciado: Remover as opções A, B, C, D, E do final do texto\n",
    "        # Esta regex encontra as opções e o texto antes delas é o enunciado\n",
    "        enunciado_regex = r\"(.*)\\n\\s*A\\)\\s*.*\\n\\s*B\\)\\s*.*\\n\\s*C\\)\\s*.*\\n\\s*D\\)\\s*.*\\n\\s*E\\)\\s*.*\"\n",
    "        enunciado_match = re.search(enunciado_regex, question_raw_text, re.DOTALL)\n",
    "        enunciado = enunciado_match.group(1).strip() if enunciado_match else question_raw_text.split('\\n')[0] # Pega a primeira linha se não encontrar as opções\n",
    "\n",
    "        # Adiciona os dados da questão à lista\n",
    "        questions_data.append({\n",
    "            \"Número da Questão\": question_number,\n",
    "            \"Enunciado da Questão\": enunciado,\n",
    "            \"possui_imagem\": possui_imagem, # Isso precisa ser preenchido com a lógica real\n",
    "            \"Gabarito da Questão\": gabarito.get(question_number, \"N/A\"), # Busca no gabarito\n",
    "            \"Cor da Prova\": exam_color\n",
    "        })\n",
    "    return questions_data\n",
    "\n",
    "# Exemplo de uso (simulado):\n",
    "# exam_pages_text_example = [\n",
    "#     \"\"\"\n",
    "#     QUESTÃO 1. Texto do enunciado da questão 1.\n",
    "#     A) Opção A\n",
    "#     B) Opção B\n",
    "#     C) Opção C\n",
    "#     D) Opção D\n",
    "#     E) Opção E\n",
    "\n",
    "#     QUESTÃO 2. Este é o enunciado da questão 2. Pode ter várias linhas.\n",
    "#     A) Opção A2\n",
    "#     B) Opção B2\n",
    "#     C) Opção C2\n",
    "#     D) Opção D2\n",
    "#     E) Opção E2\n",
    "#     \"\"\"\n",
    "# ]\n",
    "# simulated_gabarito = {1: 'C', 2: 'A'}\n",
    "# simulated_exam_color = \"Amarela\"\n",
    "# parsed_questions = parse_exam_questions(exam_pages_text_example, simulated_gabarito, simulated_exam_color)\n",
    "# for q in parsed_questions:\n",
    "#     print(q)"
   ]
  }
 ],
 "metadata": {
  "kernelspec": {
   "display_name": "base",
   "language": "python",
   "name": "python3"
  },
  "language_info": {
   "codemirror_mode": {
    "name": "ipython",
    "version": 3
   },
   "file_extension": ".py",
   "mimetype": "text/x-python",
   "name": "python",
   "nbconvert_exporter": "python",
   "pygments_lexer": "ipython3",
   "version": "3.12.9"
  }
 },
 "nbformat": 4,
 "nbformat_minor": 5
}
